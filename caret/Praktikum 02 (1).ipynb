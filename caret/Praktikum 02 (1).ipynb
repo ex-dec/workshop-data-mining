{
 "cells": [
  {
   "cell_type": "code",
   "execution_count": null,
   "id": "55830ff7",
   "metadata": {},
   "outputs": [],
   "source": [
    "from pycaret.datasets import get_data\n",
    "from pycaret.classification import *\n",
    "from sklearn.model_selection import train_test_split\n",
    "import pandas_profiling as pp\n",
    "import pandas as pd\n",
    "import numpy as np"
   ]
  },
  {
   "cell_type": "code",
   "execution_count": null,
   "id": "88c0e1e7",
   "metadata": {},
   "outputs": [],
   "source": [
    "df = get_data(dataset = 'telescope', profile=True)"
   ]
  },
  {
   "cell_type": "code",
   "execution_count": null,
   "id": "ae23fe4c",
   "metadata": {},
   "outputs": [],
   "source": [
    "df = df.dropna()\n",
    "df = df.drop_duplicates()\n",
    "df"
   ]
  },
  {
   "cell_type": "code",
   "execution_count": null,
   "id": "3f7a8846",
   "metadata": {},
   "outputs": [],
   "source": [
    "repl = {'g' : 0, 'h' : 1}\n",
    "df = df.replace({'Class' : repl})\n",
    "df"
   ]
  },
  {
   "cell_type": "code",
   "execution_count": null,
   "id": "676cd5df",
   "metadata": {},
   "outputs": [],
   "source": [
    "profile = pp.ProfileReport(df)\n",
    "profile"
   ]
  },
  {
   "cell_type": "code",
   "execution_count": null,
   "id": "695c25d6",
   "metadata": {},
   "outputs": [],
   "source": [
    "train, test = train_test_split(df, test_size=0.1, random_state=42, shuffle=True)"
   ]
  },
  {
   "cell_type": "code",
   "execution_count": null,
   "id": "0cc14c5f",
   "metadata": {},
   "outputs": [],
   "source": [
    "dataset = setup(data = train, target = 'Class', normalize = True, preprocess = True, ignore_features = [\"\"])"
   ]
  },
  {
   "cell_type": "code",
   "execution_count": null,
   "id": "e6c1b1c8",
   "metadata": {},
   "outputs": [],
   "source": [
    "best = compare_models()"
   ]
  },
  {
   "cell_type": "code",
   "execution_count": null,
   "id": "599b7140",
   "metadata": {
    "scrolled": true
   },
   "outputs": [],
   "source": [
    "tuned_best = tune_model(estimator = best)"
   ]
  },
  {
   "cell_type": "code",
   "execution_count": null,
   "id": "71b47d30",
   "metadata": {},
   "outputs": [],
   "source": [
    "predictions = predict_model(tuned_best, data=test)"
   ]
  },
  {
   "cell_type": "code",
   "execution_count": null,
   "id": "2ba5f6df",
   "metadata": {},
   "outputs": [],
   "source": [
    "predictions"
   ]
  },
  {
   "cell_type": "code",
   "execution_count": null,
   "id": "467ebac5",
   "metadata": {},
   "outputs": [],
   "source": [
    "evaluate_model(tuned_best)"
   ]
  },
  {
   "cell_type": "code",
   "execution_count": null,
   "id": "fb989e79",
   "metadata": {},
   "outputs": [],
   "source": [
    "interpret_model(tuned_best)"
   ]
  },
  {
   "cell_type": "code",
   "execution_count": null,
   "id": "0b9df45a",
   "metadata": {},
   "outputs": [],
   "source": [
    "final_model = finalize_model(tuned_best)"
   ]
  },
  {
   "cell_type": "code",
   "execution_count": null,
   "id": "e71b1244",
   "metadata": {},
   "outputs": [],
   "source": [
    "save_model(final_model,\"telescope\")"
   ]
  },
  {
   "cell_type": "code",
   "execution_count": null,
   "id": "c9830367",
   "metadata": {},
   "outputs": [],
   "source": []
  }
 ],
 "metadata": {
  "kernelspec": {
   "display_name": "coba",
   "language": "python",
   "name": "coba"
  },
  "language_info": {
   "codemirror_mode": {
    "name": "ipython",
    "version": 3
   },
   "file_extension": ".py",
   "mimetype": "text/x-python",
   "name": "python",
   "nbconvert_exporter": "python",
   "pygments_lexer": "ipython3",
   "version": "3.9.18"
  }
 },
 "nbformat": 4,
 "nbformat_minor": 5
}
